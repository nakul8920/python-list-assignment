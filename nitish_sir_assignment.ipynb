{
  "cells": [
    {
      "cell_type": "code",
      "execution_count": null,
      "id": "abeae0cd",
      "metadata": {
        "id": "abeae0cd",
        "outputId": "e6681983-a2e6-4f85-eca3-83ce803ffef5"
      },
      "outputs": [
        {
          "name": "stdout",
          "output_type": "stream",
          "text": [
            "[5, 2, 3, 4, 1]\n"
          ]
        }
      ],
      "source": [
        "#Q.1) python program to interchange first and last elements in a list.\n",
        "#ans.) = In this question we have to do interchange the number so we do specify the indexing and then interchange\n",
        "#the number.\n",
        "l1 = [1,2,3,4,5]\n",
        "l1[0],l1[-1] = l1[-1],l1[0]\n",
        "print(l1)"
      ]
    },
    {
      "cell_type": "code",
      "execution_count": null,
      "id": "376cd016",
      "metadata": {
        "id": "376cd016",
        "outputId": "994790a3-dd4a-4cf2-b6e3-5bb02120018b"
      },
      "outputs": [
        {
          "name": "stdout",
          "output_type": "stream",
          "text": [
            "[4, 2, 3, 1, 5]\n"
          ]
        }
      ],
      "source": [
        "#Q.2) python program to swap two elements in a list.\n",
        "#ans.) firstly we will define the swap function and list and their postions then call the swap function and lastly\n",
        "#print the list.\n",
        "l2 = [1,2,3,4,5]\n",
        "def swap(l2,pos1,pos2):\n",
        "    l2[0],l2[3] = l2[3],l2[0]\n",
        "swap(l2,0,3)\n",
        "print(l2)"
      ]
    },
    {
      "cell_type": "code",
      "execution_count": null,
      "id": "772d1a03",
      "metadata": {
        "id": "772d1a03",
        "outputId": "eabed0fb-c23a-4cf9-9fe9-e88bf61951c5"
      },
      "outputs": [
        {
          "name": "stdout",
          "output_type": "stream",
          "text": [
            "['nakul', 'swarnim', 'khushi', 'siddharth']\n"
          ]
        }
      ],
      "source": [
        "#Q.3) Swap two elements in string list.\n",
        "l3 = ['nakul','khushi','swarnim','siddharth']\n",
        "def swap(l3,pos1,pos2):\n",
        "    l3[1],l3[2]=l3[2],l3[1]\n",
        "swap(l3,1,2)\n",
        "print(l3)"
      ]
    },
    {
      "cell_type": "code",
      "execution_count": null,
      "id": "110923c9",
      "metadata": {
        "id": "110923c9",
        "outputId": "922d0e77-80bb-45b6-92b2-254d4bed058f"
      },
      "outputs": [
        {
          "name": "stdout",
          "output_type": "stream",
          "text": [
            "7\n"
          ]
        }
      ],
      "source": [
        "#Q.4) Ways to find the length of list.\n",
        "#ans.) There is many ways to find the list but we will see only two ways.\n",
        "#method 1 = direct method.\n",
        "l4 = [1,2,3,4,5,6,7]\n",
        "print(len(l4))"
      ]
    },
    {
      "cell_type": "code",
      "execution_count": null,
      "id": "7faeceab",
      "metadata": {
        "id": "7faeceab",
        "outputId": "d46ec76c-14b3-40da-d47e-b8a5670f4033"
      },
      "outputs": [
        {
          "name": "stdout",
          "output_type": "stream",
          "text": [
            "the length of l5 = 7\n"
          ]
        }
      ],
      "source": [
        "#method 2 = by making new variable n and then find the list.\n",
        "l5 = [1,2,3,4,5,6,7]\n",
        "n = len(l5)\n",
        "print('the length of l5 =',n)"
      ]
    },
    {
      "cell_type": "code",
      "execution_count": null,
      "id": "cc2a62ab",
      "metadata": {
        "id": "cc2a62ab",
        "outputId": "0d221e38-5fa9-4ba1-c9af-d820aba7c576"
      },
      "outputs": [
        {
          "name": "stdout",
          "output_type": "stream",
          "text": [
            "a is greater then b\n"
          ]
        }
      ],
      "source": [
        "#Q.5)  maximum of two number:-\n",
        "a = 4\n",
        "b = 2\n",
        "if a>b:\n",
        "    print(\"a is greater then b\")\n",
        "else:\n",
        "    print(\"b is greater then a\")"
      ]
    },
    {
      "cell_type": "code",
      "execution_count": null,
      "id": "4d169637",
      "metadata": {
        "id": "4d169637",
        "outputId": "9f190fae-e221-488d-bc42-dfb7b3b0f921"
      },
      "outputs": [
        {
          "name": "stdout",
          "output_type": "stream",
          "text": [
            "a is smaller then b\n"
          ]
        }
      ],
      "source": [
        "#Q.6)  minimum of two number:-\n",
        "a = 2\n",
        "b = 4\n",
        "if a<b:\n",
        "    print(\"a is smaller then b\")\n",
        "else:\n",
        "    print(\"b is smaller then a\")"
      ]
    },
    {
      "cell_type": "code",
      "execution_count": null,
      "id": "7086cb00",
      "metadata": {
        "id": "7086cb00",
        "outputId": "10a2c6f2-25d0-4295-977a-f3a6cd759776"
      },
      "outputs": [
        {
          "name": "stdout",
          "output_type": "stream",
          "text": [
            "enter the number=2\n",
            "yes this is in list\n"
          ]
        }
      ],
      "source": [
        "#Q.7) Ways to check if element exists in list.\n",
        "l7 = [1,2,3,4,5,6]\n",
        "num = int(input('enter the number='))\n",
        "if num in l7:\n",
        "    print(\"yes this is in list\")\n",
        "else:\n",
        "    print(\"no this is not an element of this list\")"
      ]
    },
    {
      "cell_type": "code",
      "execution_count": null,
      "id": "816a5e59",
      "metadata": {
        "id": "816a5e59",
        "outputId": "51561f5b-165e-48aa-ca2f-142bb7ac5fd6"
      },
      "outputs": [
        {
          "name": "stdout",
          "output_type": "stream",
          "text": [
            "[]\n"
          ]
        }
      ],
      "source": [
        "#Q.8) Way to clean the list.\n",
        "l8 = [1,2,3,4,5,6,7]\n",
        "l8.clear()\n",
        "print(l8)"
      ]
    },
    {
      "cell_type": "code",
      "execution_count": null,
      "id": "6a182e78",
      "metadata": {
        "id": "6a182e78",
        "outputId": "685ce209-61f6-476b-db46-5c0042129682"
      },
      "outputs": [
        {
          "name": "stdout",
          "output_type": "stream",
          "text": [
            "[7, 6, 5, 4, 3, 2, 1]\n"
          ]
        }
      ],
      "source": [
        "#Q.9) Reversing a list:-\n",
        "l8 = [1,2,3,4,5,6,7]\n",
        "l8.reverse()\n",
        "print(l8)"
      ]
    },
    {
      "cell_type": "code",
      "execution_count": null,
      "id": "4565057e",
      "metadata": {
        "id": "4565057e",
        "outputId": "aadea10b-febd-4071-f777-6730eae5ca06"
      },
      "outputs": [
        {
          "name": "stdout",
          "output_type": "stream",
          "text": [
            "[1, 2, 3, 4, 5, 6]\n"
          ]
        }
      ],
      "source": [
        "#Q.10) Copying a list:-\n",
        "l9 = [1,2,3,4,5,6]\n",
        "l9a = l9.copy()\n",
        "print(l9a)"
      ]
    },
    {
      "cell_type": "code",
      "execution_count": null,
      "id": "b1660522",
      "metadata": {
        "id": "b1660522",
        "outputId": "3f7bf9e1-c445-4af4-ab73-213af7b85c49"
      },
      "outputs": [
        {
          "name": "stdout",
          "output_type": "stream",
          "text": [
            "enter the number which you want of it occurence=4\n",
            "the number 4 is 1 times in this list\n"
          ]
        }
      ],
      "source": [
        "#Q.11) Count occurences of an element in list:-\n",
        "l11 = [1, 2, 3, 4, 2, 2, 3, 1, 5]\n",
        "n = int(input('enter the number which you want of it occurence='))\n",
        "count = 0\n",
        "for item in l11:\n",
        "    if item == n:\n",
        "        count = count + 1\n",
        "print(\"the number\", n ,\"is\",count, \"times in this list\")"
      ]
    },
    {
      "cell_type": "code",
      "execution_count": null,
      "id": "228f31e3",
      "metadata": {
        "id": "228f31e3",
        "outputId": "e8e2fe69-bafe-4bdb-dcef-6a074603d9cf"
      },
      "outputs": [
        {
          "name": "stdout",
          "output_type": "stream",
          "text": [
            "the sum is = 252\n",
            "the average is = 36.0\n"
          ]
        }
      ],
      "source": [
        "#Q.12) Program to find the sum and average of the elements of the list:-\n",
        "l12 = [34,23,67,23,65,7,33]\n",
        "l12a = sum(l12)\n",
        "avg = l12a/7\n",
        "print(\"the sum is =\",l12a)\n",
        "print(\"the average is =\",avg)"
      ]
    },
    {
      "cell_type": "code",
      "execution_count": null,
      "id": "4cc29c5d",
      "metadata": {
        "id": "4cc29c5d",
        "outputId": "e3170f4b-e695-47e5-c2f2-91d33ee99d3d"
      },
      "outputs": [
        {
          "name": "stdout",
          "output_type": "stream",
          "text": [
            "22\n"
          ]
        }
      ],
      "source": [
        "#Q.13) Sum of the digits in list:-\n",
        "l13 = [2,3,4,6,7]\n",
        "sum = 0\n",
        "for num in l13:\n",
        "    sum = sum+num\n",
        "print(sum)"
      ]
    },
    {
      "cell_type": "code",
      "execution_count": null,
      "id": "7c38114a",
      "metadata": {
        "id": "7c38114a",
        "outputId": "2461e2a6-ab6a-4051-8705-ab761e7d6a1a"
      },
      "outputs": [
        {
          "name": "stdout",
          "output_type": "stream",
          "text": [
            "41472\n"
          ]
        }
      ],
      "source": [
        "#Q.14) Multiply of all numbers present in list:-\n",
        "l14 = [2,4,8,4,6,9,3]\n",
        "multiply = 1\n",
        "for number in l14:\n",
        "    multiply = multiply*number\n",
        "print(multiply)"
      ]
    },
    {
      "cell_type": "code",
      "execution_count": null,
      "id": "832a1d83",
      "metadata": {
        "id": "832a1d83",
        "outputId": "c574c4d2-c7ea-4057-b23d-0464c92caaa0"
      },
      "outputs": [
        {
          "name": "stdout",
          "output_type": "stream",
          "text": [
            "smallest number in list is= 4\n"
          ]
        }
      ],
      "source": [
        "#Q.15) Find the smalllest number in list.\n",
        "l15 = [65,87,4,23,78,90]\n",
        "small_number = min(l15)\n",
        "print(\"smallest number in list is=\",small_number)"
      ]
    },
    {
      "cell_type": "code",
      "execution_count": null,
      "id": "ad7e7d73",
      "metadata": {
        "id": "ad7e7d73",
        "outputId": "a2ebea69-ae3b-4167-a614-0ff911b7cc80"
      },
      "outputs": [
        {
          "name": "stdout",
          "output_type": "stream",
          "text": [
            "the largest number is= 90\n"
          ]
        }
      ],
      "source": [
        "#Q.16) Find the largest number in list.\n",
        "l16 = [65,87,4,23,78,90]\n",
        "large_number = max(l16)\n",
        "print(\"the largest number is=\",large_number)"
      ]
    },
    {
      "cell_type": "code",
      "execution_count": null,
      "id": "b8f78d69",
      "metadata": {
        "id": "b8f78d69",
        "outputId": "273866a9-d9c9-42d3-990c-a9d843447a9f"
      },
      "outputs": [
        {
          "name": "stdout",
          "output_type": "stream",
          "text": [
            "the second maximum number is= 78\n"
          ]
        }
      ],
      "source": [
        "#Q.17) Find the second maximum number in list:-\n",
        "l17 = [43,78,34,6,89,21,56]\n",
        "first_max = max(l17)\n",
        "l17.remove(first_max)\n",
        "second_max = max(l17)\n",
        "print(\"the second maximum number is=\",second_max)"
      ]
    },
    {
      "cell_type": "code",
      "execution_count": null,
      "id": "96ad5d39",
      "metadata": {
        "id": "96ad5d39",
        "outputId": "b91e59d1-837a-496e-efbb-70aedd1ab49c"
      },
      "outputs": [
        {
          "name": "stdout",
          "output_type": "stream",
          "text": [
            "this number is even= 76\n"
          ]
        }
      ],
      "source": [
        "#Q.18) Find the even number in the list.\n",
        "l18 = [23,67,89,43,67,76]\n",
        "for number in l18:\n",
        "    if number%2==0:\n",
        "        print(\"this number is even=\",number)"
      ]
    },
    {
      "cell_type": "code",
      "execution_count": null,
      "id": "b3f3614c",
      "metadata": {
        "id": "b3f3614c",
        "outputId": "2533d1c1-4a5a-4356-dc3b-4c00398fc39f"
      },
      "outputs": [
        {
          "name": "stdout",
          "output_type": "stream",
          "text": [
            "this number is odd= 67\n"
          ]
        }
      ],
      "source": [
        "#Q.19) Find the odd number in the list.\n",
        "l19 = [24,68,84,44,67,76]\n",
        "for number in l19:\n",
        "    if number%2!=0:\n",
        "        print(\"this number is odd=\",number)"
      ]
    },
    {
      "cell_type": "code",
      "execution_count": null,
      "id": "7044deb0",
      "metadata": {
        "id": "7044deb0",
        "outputId": "8fe47b4e-db51-4514-b59f-b10705cc4b2f"
      },
      "outputs": [
        {
          "name": "stdout",
          "output_type": "stream",
          "text": [
            "Enter the start of range: 3\n",
            "Enter the end of range: 4\n",
            "4 "
          ]
        }
      ],
      "source": [
        "#Q.20) Python program to print Even Numbers in given range\n",
        "start = int(input(\"Enter the start of range: \"))\n",
        "end = int(input(\"Enter the end of range: \"))\n",
        "for num in range(start, end + 1):\n",
        "    if num % 2 == 0:\n",
        "        print(num, end=\" \")"
      ]
    },
    {
      "cell_type": "code",
      "execution_count": null,
      "id": "f74385d7",
      "metadata": {
        "id": "f74385d7",
        "outputId": "2f772883-957a-4c35-8798-4f1b16170f9b"
      },
      "outputs": [
        {
          "name": "stdout",
          "output_type": "stream",
          "text": [
            "Enter the start of range: 3\n",
            "Enter the end of range: 4\n",
            "3 "
          ]
        }
      ],
      "source": [
        "#Q.21) Python program to print odd Numbers in given range.\n",
        "start = int(input(\"Enter the start of range: \"))\n",
        "end = int(input(\"Enter the end of range: \"))\n",
        "for numb1 in range(start, end + 1):\n",
        "    if numb1 % 2 != 0:\n",
        "        print(numb1, end=\" \")"
      ]
    },
    {
      "cell_type": "code",
      "execution_count": null,
      "id": "dc946c96",
      "metadata": {
        "id": "dc946c96",
        "outputId": "f9ac3ac6-6cc3-4583-cf65-4c4441535054"
      },
      "outputs": [
        {
          "name": "stdout",
          "output_type": "stream",
          "text": [
            "Even numbers: [54, 64, 34, 90] Count: 4\n",
            "Odd numbers: [67, 23, 87] Count: 3\n"
          ]
        }
      ],
      "source": [
        "#Q.22) Program to print the count of even and odd numbers in a list.\n",
        "l22 = [54,67,64,23,87,34,90,]\n",
        "even = []\n",
        "odd = []\n",
        "def oddeven_count(numbers):\n",
        "    even_count = 0\n",
        "    odd_count = 0\n",
        "    for num in numbers:\n",
        "        if num % 2 == 0:\n",
        "            even.append(num)\n",
        "            even_count = even_count + 1\n",
        "        else:\n",
        "            odd.append(num)\n",
        "            odd_count = odd_count + 1\n",
        "\n",
        "    return even_count, odd_count\n",
        "even_count, odd_count = oddeven_count(l22)\n",
        "print(\"Even numbers:\", even , \"Count:\", even_count)\n",
        "print(\"Odd numbers:\" ,odd, \"Count:\" ,odd_count)"
      ]
    },
    {
      "cell_type": "code",
      "execution_count": null,
      "id": "9f264739",
      "metadata": {
        "id": "9f264739",
        "outputId": "68d13c48-4322-4880-f342-067a2c984f0b"
      },
      "outputs": [
        {
          "name": "stdout",
          "output_type": "stream",
          "text": [
            "Positive numbers in the list:  [45, 93]\n"
          ]
        }
      ],
      "source": [
        "#Q.23) # Python program to print Positive Numbers in a List\n",
        "l23 = [-10, -21, -4, 45, -66, 93]\n",
        "positive_numbers = []\n",
        "for num in l23:\n",
        "    if num>=0:\n",
        "        positive_numbers.append(num)\n",
        "print(\"Positive numbers in the list: \",positive_numbers)"
      ]
    },
    {
      "cell_type": "code",
      "execution_count": null,
      "id": "1b980388",
      "metadata": {
        "id": "1b980388",
        "outputId": "a67dbc95-5c1e-46cf-dd79-84eb263b3a09"
      },
      "outputs": [
        {
          "name": "stdout",
          "output_type": "stream",
          "text": [
            "negetive numbers in the list:  [-10, -21, -4, -66]\n"
          ]
        }
      ],
      "source": [
        "#Q.24) # Python program to print negetive Numbers in a List\n",
        "l24 = [-10, -21, -4, 45, -66, 93]\n",
        "negetive_numbers = []\n",
        "for num in l24:\n",
        "    if num<=0:\n",
        "        negetive_numbers.append(num)\n",
        "print(\"negetive numbers in the list: \",negetive_numbers)"
      ]
    },
    {
      "cell_type": "code",
      "execution_count": null,
      "id": "a6ae6520",
      "metadata": {
        "id": "a6ae6520",
        "outputId": "9b60cab2-dc07-439d-c76e-e88da1885356"
      },
      "outputs": [
        {
          "name": "stdout",
          "output_type": "stream",
          "text": [
            "Enter the start of range: -3\n",
            "Enter the end of range: 2\n",
            "1 2 "
          ]
        }
      ],
      "source": [
        "#Q.25) Python program to print all positive numbers in a range.\n",
        "start = int(input(\"Enter the start of range: \"))\n",
        "end = int(input(\"Enter the end of range: \"))\n",
        "for number1 in range(start, end + 1):\n",
        "    if number1 > 0:\n",
        "        print(number1, end=\" \")"
      ]
    },
    {
      "cell_type": "code",
      "execution_count": null,
      "id": "95730a5b",
      "metadata": {
        "id": "95730a5b",
        "outputId": "fba5c741-cd8f-4927-cef8-fb96765d408f"
      },
      "outputs": [
        {
          "name": "stdout",
          "output_type": "stream",
          "text": [
            "Enter the start of range: -5\n",
            "Enter the end of range: 2\n",
            "-5 -4 -3 -2 -1 "
          ]
        }
      ],
      "source": [
        "#Q.26) Python program to print all negetive numbers in a range.\n",
        "start = int(input(\"Enter the start of range: \"))\n",
        "end = int(input(\"Enter the end of range: \"))\n",
        "for number2 in range(start, end + 1):\n",
        "    if number2 < 0:\n",
        "        print(number2, end=\" \")"
      ]
    },
    {
      "cell_type": "code",
      "execution_count": null,
      "id": "f34407ee",
      "metadata": {
        "id": "f34407ee",
        "outputId": "7b4ab5bb-bbcf-48e8-8467-762f2d3f9dba"
      },
      "outputs": [
        {
          "name": "stdout",
          "output_type": "stream",
          "text": [
            "positive numbers in this list= 5\n",
            "negetive numbers in this list= 3\n"
          ]
        }
      ],
      "source": [
        "#Q.27) Python program to count the positive and negetive numbers in a list.\n",
        "l27 = [3,1,-5,2,7,-2,6,-8]\n",
        "positive_count = 0\n",
        "negetive_count = 0\n",
        "for numbers in l27:\n",
        "    if numbers>0:\n",
        "        positive_count = positive_count + 1\n",
        "    elif numbers<0:\n",
        "        negetive_count = negetive_count + 1\n",
        "print(\"positive numbers in this list=\",positive_count)\n",
        "print(\"negetive numbers in this list=\",negetive_count)"
      ]
    },
    {
      "cell_type": "code",
      "execution_count": null,
      "id": "4cc4b208",
      "metadata": {
        "id": "4cc4b208",
        "outputId": "6e4e8a0e-1d41-4930-e57e-92c263b4f783"
      },
      "outputs": [
        {
          "name": "stdout",
          "output_type": "stream",
          "text": [
            "New list after removing all even numbers:  [11, 5, 17, 23]\n"
          ]
        }
      ],
      "source": [
        "#Q.28)Remove multiple elements from a list in python.\n",
        "list28 = [11, 5, 17, 18, 23, 50]\n",
        "for element1 in list1:\n",
        "    if element1 % 2 == 0:\n",
        "        list1.remove(element1)\n",
        "print(\"New list after removing all even numbers: \", list1)"
      ]
    },
    {
      "cell_type": "code",
      "execution_count": null,
      "id": "4280c0c3",
      "metadata": {
        "id": "4280c0c3",
        "outputId": "b9a5ce15-f1ec-4165-842d-a497284efd75"
      },
      "outputs": [
        {
          "name": "stdout",
          "output_type": "stream",
          "text": [
            "[('', 'siddh', '15', '8'), ('swarnim', 'sidharth'), ('nakul', 'khushi', '45'), ('', '')]\n"
          ]
        }
      ],
      "source": [
        "#Q.29) Python program to remove empty tuples from a list of tuples function to remove empty tuples\n",
        "tuples = [(), ('', 'siddh','15', '8'), (), ('swarnim', 'sidharth'),\n",
        "        ('nakul', 'khushi', '45'), ('', ''), ()]\n",
        "def Remove(tuples):\n",
        "    for i in tuples:\n",
        "        if(len(i) == 0):\n",
        "            tuples.remove(i)\n",
        "    return tuples\n",
        "print(Remove(tuples))"
      ]
    },
    {
      "cell_type": "code",
      "execution_count": null,
      "id": "0ce14947",
      "metadata": {
        "id": "0ce14947",
        "outputId": "2d6fef23-0960-4f53-8d0c-ca3f5b0f0533"
      },
      "outputs": [
        {
          "name": "stdout",
          "output_type": "stream",
          "text": [
            "[4]\n"
          ]
        }
      ],
      "source": [
        "#Q.30) Python program to print duplicates from a list of integers.\n",
        "integers = [1,6,4,2,8,4,9,3]\n",
        "duplicates_integers =[]\n",
        "def duplicates(integers):\n",
        "    for i in integers:\n",
        "        if integers.count(i)>1 and i not in duplicates_integers:\n",
        "            duplicates_integers.append(i)\n",
        "    return duplicates_integers\n",
        "duplicates(integers)\n",
        "print(duplicates_integers)"
      ]
    },
    {
      "cell_type": "code",
      "execution_count": null,
      "id": "627f1d2d",
      "metadata": {
        "id": "627f1d2d"
      },
      "outputs": [],
      "source": []
    },
    {
      "cell_type": "code",
      "execution_count": null,
      "id": "33539df8",
      "metadata": {
        "id": "33539df8"
      },
      "outputs": [],
      "source": []
    }
  ],
  "metadata": {
    "kernelspec": {
      "display_name": "Python 3 (ipykernel)",
      "language": "python",
      "name": "python3"
    },
    "language_info": {
      "codemirror_mode": {
        "name": "ipython",
        "version": 3
      },
      "file_extension": ".py",
      "mimetype": "text/x-python",
      "name": "python",
      "nbconvert_exporter": "python",
      "pygments_lexer": "ipython3",
      "version": "3.11.4"
    },
    "colab": {
      "provenance": []
    }
  },
  "nbformat": 4,
  "nbformat_minor": 5
}